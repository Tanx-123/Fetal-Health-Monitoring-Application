{
 "cells": [
  {
   "cell_type": "code",
   "execution_count": 1,
   "metadata": {},
   "outputs": [],
   "source": [
    "import joblib\n",
    "import sklearn\n",
    "import numpy as np\n",
    "import pandas as pd\n",
    "\n",
    "import warnings\n",
    "warnings.filterwarnings('ignore')"
   ]
  },
  {
   "cell_type": "code",
   "execution_count": 2,
   "metadata": {},
   "outputs": [],
   "source": [
    "# Load the saved model and scalar\n",
    "model = joblib.load('final_model.joblib')\n",
    "scaler = joblib.load('scaler.joblib')"
   ]
  },
  {
   "cell_type": "code",
   "execution_count": 3,
   "metadata": {},
   "outputs": [],
   "source": [
    "fetal_health_status = {1:'Normal',\n",
    "                       2:'Suspect',\n",
    "                       3:'Pathological'}"
   ]
  },
  {
   "cell_type": "code",
   "execution_count": 4,
   "metadata": {},
   "outputs": [],
   "source": [
    "baseline_value = input(\"Enter the baseline value: \")\n",
    "accelerations = input(\"Enter the accelerations: \")\n",
    "fetal_movement = input(\"Enter the fetal movement: \")\n",
    "uterine_contractions = input(\"Enter the uterine contraction: \")\n",
    "light_decelerations = input(\"Enter the light decelerations: \")\n",
    "severe_decelerations = input(\"Enter the severe decelerations: \")\n",
    "prolongued_decelerations = input(\"Enter the prolongued decelerations: \")\n",
    "abnormal_short_term_variability = input(\"Enter the abnormal short term variability: \")\n",
    "mean_value_of_short_term_variability = input(\"Enter the mean value of short term variability: \")\n",
    "percentage_of_time_with_abnormal_long_term_variability = input(\"Enter the percentage of time with abnormal long term variability: \")\n",
    "mean_value_of_long_term_variability = input(\"Enter the mean value of long term variability: \")\n",
    "histogram_width = input(\"Enter the histogram width: \")\n",
    "histogram_min = input(\"Enter the histogram min: \")\n",
    "histogram_max = input(\"Enter the histogram max: \")\n",
    "histogram_number_of_peaks = input(\"Enter the histogram number of peaks: \")\n",
    "histogram_number_of_zeroes = input(\"Enter the histogram number of zeroes: \")\n",
    "histogram_mode = input(\"Enter the histogram mode: \")\n",
    "histogram_variance = input(\"Enter the histogram variance: \")\n",
    "histogram_tendency = input(\"Enter the histogram tendency: \")"
   ]
  },
  {
   "cell_type": "code",
   "execution_count": 5,
   "metadata": {},
   "outputs": [],
   "source": [
    "features = np.array([[baseline_value,accelerations,fetal_movement,\n",
    "                      uterine_contractions,light_decelerations,severe_decelerations,\n",
    "                      prolongued_decelerations,abnormal_short_term_variability,mean_value_of_short_term_variability,percentage_of_time_with_abnormal_long_term_variability,\n",
    "                      mean_value_of_long_term_variability,histogram_width,histogram_min,histogram_max,histogram_number_of_peaks,histogram_number_of_zeroes,\n",
    "                      histogram_mode,histogram_variance,histogram_tendency\n",
    "                      ]])"
   ]
  },
  {
   "cell_type": "code",
   "execution_count": 6,
   "metadata": {},
   "outputs": [
    {
     "data": {
      "text/plain": [
       "array([['151', '0.0', '0.002', '0.0', '0.0', '0.0', '0.0', '81.0', '0.4',\n",
       "        '29.0', '6.4', '30.0', '130.0', '160.0', '2', '0', '152', '1',\n",
       "        '1']], dtype='<U5')"
      ]
     },
     "execution_count": 6,
     "metadata": {},
     "output_type": "execute_result"
    }
   ],
   "source": [
    "features"
   ]
  },
  {
   "cell_type": "code",
   "execution_count": 7,
   "metadata": {},
   "outputs": [],
   "source": [
    "#Scaling the input data\n",
    "features = scaler.transform(features)"
   ]
  },
  {
   "cell_type": "code",
   "execution_count": 8,
   "metadata": {},
   "outputs": [
    {
     "data": {
      "text/plain": [
       "array([3.])"
      ]
     },
     "execution_count": 8,
     "metadata": {},
     "output_type": "execute_result"
    }
   ],
   "source": [
    "prediction = model.predict(features)\n",
    "prediction"
   ]
  },
  {
   "cell_type": "code",
   "execution_count": 9,
   "metadata": {},
   "outputs": [
    {
     "name": "stdout",
     "output_type": "stream",
     "text": [
      "Predicted fetal health status: Pathological\n"
     ]
    }
   ],
   "source": [
    "status = fetal_health_status[int(prediction)]\n",
    "print(f\"Predicted fetal health status: {status}\")"
   ]
  },
  {
   "cell_type": "code",
   "execution_count": null,
   "metadata": {},
   "outputs": [],
   "source": []
  },
  {
   "cell_type": "code",
   "execution_count": null,
   "metadata": {},
   "outputs": [],
   "source": []
  }
 ],
 "metadata": {
  "kernelspec": {
   "display_name": "env",
   "language": "python",
   "name": "python3"
  },
  "language_info": {
   "codemirror_mode": {
    "name": "ipython",
    "version": 3
   },
   "file_extension": ".py",
   "mimetype": "text/x-python",
   "name": "python",
   "nbconvert_exporter": "python",
   "pygments_lexer": "ipython3",
   "version": "3.10.5"
  },
  "orig_nbformat": 4
 },
 "nbformat": 4,
 "nbformat_minor": 2
}
